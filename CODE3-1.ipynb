{
 "cells": [
  {
   "cell_type": "code",
   "execution_count": 1,
   "id": "144a0a25",
   "metadata": {},
   "outputs": [],
   "source": [
    "l = [1,2,3,4,5,6,7,8,9,10]"
   ]
  },
  {
   "cell_type": "code",
   "execution_count": 60,
   "id": "314ad47a",
   "metadata": {},
   "outputs": [],
   "source": [
    "def prime(x,divisor):\n",
    "    if x==1 or x==2:\n",
    "        print (\"Prime\")\n",
    "        return True\n",
    "    else:\n",
    "        if x == divisor:\n",
    "            print (\"Prime\")\n",
    "            return True\n",
    "        if x % divisor == 0:\n",
    "            print (\"Not prime\")\n",
    "            return False\n",
    "        A = prime(x,divisor+1)\n",
    "    return A"
   ]
  },
  {
   "cell_type": "code",
   "execution_count": 61,
   "id": "8a724567",
   "metadata": {},
   "outputs": [],
   "source": [
    "def number(x):\n",
    "    if x % 2 == 0:\n",
    "        print (\"Even\")\n",
    "        return True\n",
    "    else:\n",
    "        result = prime(x,2)\n",
    "        return result"
   ]
  },
  {
   "cell_type": "code",
   "execution_count": 64,
   "id": "3cb0b329",
   "metadata": {},
   "outputs": [
    {
     "name": "stdout",
     "output_type": "stream",
     "text": [
      "Not prime\n"
     ]
    },
    {
     "data": {
      "text/plain": [
       "False"
      ]
     },
     "execution_count": 64,
     "metadata": {},
     "output_type": "execute_result"
    }
   ],
   "source": [
    "number(9)"
   ]
  },
  {
   "cell_type": "code",
   "execution_count": null,
   "id": "e025b3f9",
   "metadata": {},
   "outputs": [],
   "source": []
  },
  {
   "cell_type": "code",
   "execution_count": null,
   "id": "97c91989",
   "metadata": {},
   "outputs": [],
   "source": []
  }
 ],
 "metadata": {
  "kernelspec": {
   "display_name": "Python 3 (ipykernel)",
   "language": "python",
   "name": "python3"
  },
  "language_info": {
   "codemirror_mode": {
    "name": "ipython",
    "version": 3
   },
   "file_extension": ".py",
   "mimetype": "text/x-python",
   "name": "python",
   "nbconvert_exporter": "python",
   "pygments_lexer": "ipython3",
   "version": "3.9.13"
  }
 },
 "nbformat": 4,
 "nbformat_minor": 5
}
