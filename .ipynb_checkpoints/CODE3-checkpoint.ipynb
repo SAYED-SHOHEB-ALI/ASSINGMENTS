{
 "cells": [
  {
   "cell_type": "markdown",
   "id": "2004fae5",
   "metadata": {},
   "source": [
    "# Write a program to go through 1000 random integers and check whether they are even or prime. In order to create a list of 1000 random integers, you can write the following statement:\n",
    "# import numpy as np\n",
    "# random_integers = np.random.randint(low=0, high=2000, size=(1000,))\n",
    "# Now pass the list of these 1000 random integers to a user defined function called even_prime_list_creation. This function will accept a list of 1000 random integers and return two lists of even as well as prime numbers. Make sure that your function does this in a recursive manner (remember that you can't use loop to go through each number in a list of 1000 random integers, that has to be done in a recursive manner)\n",
    "# Now, in order to create a list of even as well as prime numbers, even_prime_list_creation should know that which number is an even number and which number is a prime number. Well even number is easy to check so your function even_prime_list_creation can itself check whether the number is even or not but in order to check whether the number is prime or not, even_prime_list_creation is going to call another function called is_prime. This, is_prime function will accept a number and check whether it's prime or not in a recursive manner (again you can't use a loop to check whether the number is prime or not, that has to be done in a recursive manner) and is going to return True or False accordingly.\n",
    "# So, both functions should do their job in a recursive manner. And the final outcome should be two lists, one of even number and one of prime numbers."
   ]
  },
  {
   "cell_type": "code",
   "execution_count": 1,
   "id": "0c9d1cd3",
   "metadata": {},
   "outputs": [],
   "source": [
    "import numpy as np\n",
    "random_integers = np.random.randint(low=0, high=2000, size=(1000,))"
   ]
  },
  {
   "cell_type": "code",
   "execution_count": 2,
   "id": "a7554743",
   "metadata": {},
   "outputs": [
    {
     "data": {
      "text/plain": [
       "array([ 506, 1521, 1585,  204,  467,  654,  888,    0, 1362,  774, 1548,\n",
       "       1069,  793, 1670, 1106,  950, 1935,  316, 1346, 1563,  700, 1207,\n",
       "        647, 1944,  914, 1361, 1034, 1562, 1405,  443, 1171, 1298,  144,\n",
       "       1210,   26, 1370, 1763, 1772,  858, 1325, 1340,  420,  981, 1964,\n",
       "        664, 1610,  508, 1768, 1484,  278, 1811,  289,  785, 1569,  869,\n",
       "       1825,  224, 1402, 1148, 1599,  103,  114,  638, 1015,  703,  265,\n",
       "       1248,  826,  132,  502,  951,   79,  241,  382,   21, 1973, 1020,\n",
       "        891, 1286, 1390,  816,  818,   64, 1954, 1470,  334, 1408, 1634,\n",
       "       1811,  424, 1149, 1593, 1057, 1883,  450, 1863,  963,  516, 1330,\n",
       "        337,  554,  553, 1956, 1270,  145,  659,  976, 1617,   76, 1702,\n",
       "       1715, 1798, 1896, 1937,  247, 1790,  354,  280, 1523, 1401,  770,\n",
       "       1876, 1433,  278, 1872,  159, 1747,  598, 1871,  319,  996, 1311,\n",
       "        568, 1626, 1092, 1200,  259, 1173, 1558,  445, 1223, 1371,  522,\n",
       "       1916,  395, 1363,  781,  476, 1595, 1577, 1738, 1521, 1805, 1482,\n",
       "        692,  627, 1687, 1639,  489,  366,  752,  548,  225, 1069,  934,\n",
       "       1025, 1171, 1740,  916, 1262, 1740,  381, 1385, 1528,  699, 1864,\n",
       "        299, 1971, 1923,  164,  619,  120, 1578, 1229, 1259, 1748, 1934,\n",
       "         62, 1890,   50,  763,    9,  219, 1262,  779, 1909,   76,  467,\n",
       "       1627, 1903,  874,  998, 1511,  725, 1103,  438, 1461, 1749, 1912,\n",
       "       1020,  926,  130, 1358, 1850, 1686, 1232, 1287,  626,  304,  807,\n",
       "         10,  933,  850,  670,  762, 1439, 1342, 1293, 1935,  488,  103,\n",
       "        309,  871, 1179,  278, 1712, 1268, 1886, 1124,  866,  108, 1234,\n",
       "       1769,  562,   29, 1804, 1474,  410, 1907, 1726,  950, 1348,  796,\n",
       "        555,  963, 1614, 1310,  174, 1010, 1256, 1893, 1073, 1597,  269,\n",
       "        336, 1745,   29, 1691,  260, 1962,  961,  681, 1997, 1177,  679,\n",
       "       1257,  576,  871, 1203,  659,   89,  866, 1619,  116, 1090, 1773,\n",
       "       1481,  716, 1581,  175,  380,  565, 1158,  704,  639, 1528,  752,\n",
       "        895, 1961,  944,   48, 1564,  601,  964,  406,   37,  753, 1011,\n",
       "         97, 1774, 1104, 1647, 1224, 1327, 1924,   95,  188,  165,  909,\n",
       "       1411, 1676,  376, 1728,  340,  780, 1245, 1436, 1179, 1915,  449,\n",
       "       1060, 1564,  158, 1887,  531, 1210,   86,  334,  270, 1954,  336,\n",
       "       1810,  381,  182,   34, 1261, 1130, 1979, 1545, 1779,  434,  779,\n",
       "       1178,  157, 1280,  466, 1286, 1083,  181,  699,  622, 1045, 1933,\n",
       "         61,  915,   96, 1425,  618,  485, 1702,  793, 1059,  665, 1606,\n",
       "       1851, 1048, 1072, 1734, 1120,   41, 1366,  216,  902,  893,  116,\n",
       "       1352,    7, 1894, 1659, 1295,  102, 1967, 1698,  563,  385, 1862,\n",
       "       1358, 1023,   47, 1154, 1010, 1007, 1578, 1038,  635, 1617,  385,\n",
       "        989,  588, 1867, 1346,  526,    3,  965,  751,  445,  175,  162,\n",
       "       1973, 1127, 1487,  709,  565, 1779,  357,   32, 1254,  991, 1608,\n",
       "       1654,  412, 1367, 1882,  624, 1670,  742,  703,  398, 1808, 1000,\n",
       "        627,  439,  748,   27,  497,  342, 1647,  348,  204, 1394, 1955,\n",
       "        234,  504,  894,  953,  428, 1338,  391,  660, 1001,  944, 1413,\n",
       "        560, 1908, 1313, 1804, 1709, 1139,  391,  196,  824,  725,  678,\n",
       "       1094, 1164, 1031, 1966, 1102,  558,  645, 1718,  432,  620, 1033,\n",
       "       1535,  976, 1188,  728, 1969,  281,  963, 1724, 1393, 1941,  347,\n",
       "        288,  509,  490,  946, 1185, 1073,  622,  792,  612, 1202,  599,\n",
       "        217, 1803,  258, 1005, 1098, 1583, 1703, 1865, 1750,  300,  424,\n",
       "       1090,  436,  329,  172, 1491, 1248, 1025,  742, 1993, 1589, 1003,\n",
       "        523, 1109, 1027, 1016,  406,  930, 1768,  827, 1613, 1192, 1014,\n",
       "        110,  676,  397,  158,  408, 1112,  490, 1843, 1485, 1282, 1405,\n",
       "       1390, 1507, 1369, 1527, 1095, 1615, 1470, 1353,  586,  332,  638,\n",
       "        878,  203,  542, 1747,   93,  955, 1797,  524, 1288,  177, 1830,\n",
       "       1875,  820,  845,   98, 1926, 1852,  689,  295,  461,  916,  650,\n",
       "       1291,  513, 1959,  819, 1901, 1777, 1916, 1740,  482,  843, 1215,\n",
       "       1683,  787,  721, 1737,   10,  790,  946,  775, 1054, 1358,  881,\n",
       "       1681,  367,  901, 1742, 1425,  441,  296, 1062, 1930, 1263,  569,\n",
       "       1123, 1643,   29,    4,  547, 1463, 1889, 1174, 1773, 1594, 1587,\n",
       "       1076, 1938,  471,  400, 1684, 1658, 1912,  624, 1036, 1310,  532,\n",
       "        880, 1953, 1744,  874,  798,  150,  741,  331, 1054,  275, 1078,\n",
       "        850, 1169,  754, 1287, 1341, 1533,  637,  595,  163, 1967,  887,\n",
       "         85,  866,  170,   68, 1677, 1187,  525, 1877, 1039,  740,  808,\n",
       "       1271, 1922, 1273, 1555, 1580,   54,  812,  390, 1986,  318, 1761,\n",
       "       1040, 1059, 1159,  623,  679, 1056,  591, 1136, 1734, 1537,  224,\n",
       "       1736, 1631, 1393, 1689, 1409, 1916,  846, 1631,   51,  451, 1366,\n",
       "       1038,  414, 1035, 1748, 1439,  503, 1647, 1666,  600,  197, 1510,\n",
       "       1491,  616, 1775, 1927,  989, 1313, 1491,  675,  153, 1436,  158,\n",
       "        964, 1434, 1142, 1289, 1915, 1009, 1262, 1090, 1119,  259, 1027,\n",
       "       1581, 1242, 1355,  813,  440,  766,  510, 1868, 1200,  342,  717,\n",
       "       1144,   42,  227,  337,   89,  619, 1191,  195,  674, 1158,  390,\n",
       "         11,  472,  888,  775, 1721, 1916,   48, 1356, 1350,  368,  564,\n",
       "       1205, 1208, 1880,  475,   84,   91, 1828, 1748,  119,  717, 1715,\n",
       "        865, 1595,  148, 1624, 1136,  709, 1734, 1755,   75,  979,  842,\n",
       "        249, 1011,  839,  371,  620, 1134, 1937,  824, 1101, 1703, 1557,\n",
       "        796,  353,  896,  845,    4, 1654,  643,  140,   44, 1691,   79,\n",
       "       1771, 1907,  180, 1500, 1383,  176,  767,  806,  869, 1028,  465,\n",
       "        528,   49, 1856,  641,  270, 1153,  476, 1520, 1113, 1389,  518,\n",
       "         59,  923,  969, 1511, 1579,  680,  952,    6,  272, 1116, 1888,\n",
       "        427, 1675,  691,  749,  957, 1079, 1344,  448,  774,  429,  551,\n",
       "       1244, 1950,  919, 1040, 1328, 1785, 1976,  268,  202, 1989,  799,\n",
       "        457, 1338,  342, 1281, 1353, 1961,  539,  767,  518, 1391,  670,\n",
       "        916, 1906,  749,  771,  843, 1256, 1599, 1840, 1725, 1889,  290,\n",
       "         30, 1306,  497,  850,  944,  244,  919,  553, 1692,  137, 1755,\n",
       "        997, 1995, 1729,  460, 1470, 1101,  921, 1441, 1225,   99,  672,\n",
       "        246, 1060,  175,  823,  464,  211,  960, 1189,  731, 1381, 1163,\n",
       "       1545, 1324,  595,  254,  786, 1269,  384,  830, 1247, 1726, 1654,\n",
       "       1501, 1399,  631,  410,  553,  185, 1360, 1520, 1634, 1722, 1675,\n",
       "       1929,  819,  427,  632, 1901,  272,  587,  801, 1986, 1653,  516,\n",
       "       1708,  647,  387,  526,  125,  430,  601,  847, 1744, 1177, 1311,\n",
       "        459,  973, 1294,  570, 1543, 1851,  844,  621, 1690,  567,  978,\n",
       "        847, 1935,  288,  397, 1948, 1595,  483,  390,  406,   51,  757,\n",
       "       1965, 1118,  412, 1079,  543,  688,   83, 1346,  264,  584])"
      ]
     },
     "execution_count": 2,
     "metadata": {},
     "output_type": "execute_result"
    }
   ],
   "source": [
    "random_integers"
   ]
  },
  {
   "cell_type": "code",
   "execution_count": 3,
   "id": "32db8544",
   "metadata": {},
   "outputs": [],
   "source": [
    "def is_prime(number):\n",
    "    if number==1 or number ==2:\n",
    "        return True\n",
    "    else:\n",
    "        for divisor in range (2,number):\n",
    "            if number % divisor == 0:\n",
    "                return False\n",
    "        if divisor == (number-1):\n",
    "                return True"
   ]
  },
  {
   "cell_type": "code",
   "execution_count": 4,
   "id": "d387fe6e",
   "metadata": {},
   "outputs": [
    {
     "data": {
      "text/plain": [
       "True"
      ]
     },
     "execution_count": 4,
     "metadata": {},
     "output_type": "execute_result"
    }
   ],
   "source": [
    "is_prime(2)"
   ]
  },
  {
   "cell_type": "code",
   "execution_count": 5,
   "id": "aa0b834b",
   "metadata": {},
   "outputs": [],
   "source": [
    "def prime(n,divisor):\n",
    "    if n==1 or n==2:\n",
    "        return \"Prime\"\n",
    "    else:\n",
    "        if n == divisor:\n",
    "            return \"Prime\"\n",
    "        if n % divisor == 0:\n",
    "            return \"Not prime\"\n",
    "        A = prime(n,divisor+1)\n",
    "    return A"
   ]
  },
  {
   "cell_type": "code",
   "execution_count": 6,
   "id": "c95acc5f",
   "metadata": {},
   "outputs": [
    {
     "data": {
      "text/plain": [
       "'Prime'"
      ]
     },
     "execution_count": 6,
     "metadata": {},
     "output_type": "execute_result"
    }
   ],
   "source": [
    "prime(17,2)"
   ]
  },
  {
   "cell_type": "code",
   "execution_count": 7,
   "id": "80f59fe6",
   "metadata": {},
   "outputs": [],
   "source": [
    "def pr(x,divisor):\n",
    "    if x == 1:\n",
    "        return \"Prime\"\n",
    "    if x == divisor:\n",
    "        return \"Prime\"\n",
    "    if x % divisor == 0:\n",
    "        return \"Not Prime\"\n",
    "    divisor = divisor + 1\n",
    "    P = pr(x, divisor)\n",
    "    return P"
   ]
  },
  {
   "cell_type": "code",
   "execution_count": 8,
   "id": "79bd695b",
   "metadata": {},
   "outputs": [
    {
     "data": {
      "text/plain": [
       "'Not Prime'"
      ]
     },
     "execution_count": 8,
     "metadata": {},
     "output_type": "execute_result"
    }
   ],
   "source": [
    "pr(4,2)"
   ]
  },
  {
   "cell_type": "code",
   "execution_count": 9,
   "id": "e50b7de1",
   "metadata": {},
   "outputs": [],
   "source": [
    "def ev(x):\n",
    "    if x % 2 == 0:\n",
    "        return \"Even\"\n",
    "    else:\n",
    "        result = pr(x,2)\n",
    "        return result"
   ]
  },
  {
   "cell_type": "code",
   "execution_count": 10,
   "id": "a3a058bd",
   "metadata": {},
   "outputs": [
    {
     "data": {
      "text/plain": [
       "'Prime'"
      ]
     },
     "execution_count": 10,
     "metadata": {},
     "output_type": "execute_result"
    }
   ],
   "source": [
    "ev(19)"
   ]
  },
  {
   "cell_type": "code",
   "execution_count": 11,
   "id": "9683021b",
   "metadata": {},
   "outputs": [],
   "source": [
    "l = [1,2,3,4,5,6,7,8,9,10]"
   ]
  },
  {
   "cell_type": "code",
   "execution_count": 18,
   "id": "3e9fdfd8",
   "metadata": {},
   "outputs": [],
   "source": [
    "EVEN = []\n",
    "PRIME = []\n",
    "for number in l:\n",
    "    iseven = ev(x)\n",
    "    if iseven == True:\n",
    "        EVEN.append(x)\n",
    "    if isprime == True:\n",
    "        PRIME.append(x)"
   ]
  },
  {
   "cell_type": "code",
   "execution_count": null,
   "id": "5bf89d16",
   "metadata": {},
   "outputs": [],
   "source": []
  }
 ],
 "metadata": {
  "kernelspec": {
   "display_name": "Python 3 (ipykernel)",
   "language": "python",
   "name": "python3"
  },
  "language_info": {
   "codemirror_mode": {
    "name": "ipython",
    "version": 3
   },
   "file_extension": ".py",
   "mimetype": "text/x-python",
   "name": "python",
   "nbconvert_exporter": "python",
   "pygments_lexer": "ipython3",
   "version": "3.9.13"
  }
 },
 "nbformat": 4,
 "nbformat_minor": 5
}
