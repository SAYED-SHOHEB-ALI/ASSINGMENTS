{
 "cells": [
  {
   "cell_type": "markdown",
   "id": "f4ea7453",
   "metadata": {},
   "source": [
    "# CODE 1 ASSINGMENT"
   ]
  },
  {
   "cell_type": "markdown",
   "id": "f4fa034d",
   "metadata": {},
   "source": [
    "# ASSINGMENT 1 DETAILS"
   ]
  },
  {
   "cell_type": "markdown",
   "id": "d7b5e361",
   "metadata": {},
   "source": [
    "# LIST [ 25, 36, 31, 17, 61, 19, 58, 39, 67, 81 ]"
   ]
  },
  {
   "cell_type": "markdown",
   "id": "5a617d2e",
   "metadata": {},
   "source": [
    "# OUTPUT    { 'EVEN' : [    ] , 'PRIME' : [              ] }"
   ]
  },
  {
   "cell_type": "code",
   "execution_count": 1,
   "id": "dfba0908",
   "metadata": {},
   "outputs": [],
   "source": [
    "l=[25,36,31,17,61,19,58,39,67,81]"
   ]
  },
  {
   "cell_type": "code",
   "execution_count": 2,
   "id": "030905f5",
   "metadata": {},
   "outputs": [
    {
     "data": {
      "text/plain": [
       "[25, 36, 31, 17, 61, 19, 58, 39, 67, 81]"
      ]
     },
     "execution_count": 2,
     "metadata": {},
     "output_type": "execute_result"
    }
   ],
   "source": [
    "l"
   ]
  },
  {
   "cell_type": "code",
   "execution_count": 3,
   "id": "bb9e681e",
   "metadata": {},
   "outputs": [
    {
     "name": "stdout",
     "output_type": "stream",
     "text": [
      "The number 36 is EVEN\n",
      "The number 31 is prime\n",
      "The number 17 is prime\n",
      "The number 61 is prime\n",
      "The number 19 is prime\n",
      "The number 58 is EVEN\n",
      "The number 67 is prime\n",
      "{'EVEN': [36, 58], 'PRIME': [31, 17, 61, 19, 67]}\n"
     ]
    }
   ],
   "source": [
    "EVEN = []\n",
    "PRIME = []\n",
    "for i in range (0,10):\n",
    "    if l[i] % 2 == 0:\n",
    "        print(\"The number {} is EVEN\".format(l[i]))\n",
    "        EVEN.append(l[i])\n",
    "    else:\n",
    "        for divisor in range(2,l[i]):\n",
    "            if l[i] % divisor == 0 :\n",
    "                break\n",
    "        if divisor == (l[i] -1) :\n",
    "            print(\"The number {} is prime\".format(l[i]))\n",
    "            PRIME.append(l[i])\n",
    "d = dict(zip([\"EVEN\",\"PRIME\"],[EVEN,PRIME]))\n",
    "print(d)"
   ]
  },
  {
   "cell_type": "code",
   "execution_count": 4,
   "id": "7a571702",
   "metadata": {},
   "outputs": [
    {
     "data": {
      "text/plain": [
       "[36, 58]"
      ]
     },
     "execution_count": 4,
     "metadata": {},
     "output_type": "execute_result"
    }
   ],
   "source": [
    "EVEN"
   ]
  },
  {
   "cell_type": "code",
   "execution_count": 5,
   "id": "23e71cb1",
   "metadata": {},
   "outputs": [
    {
     "data": {
      "text/plain": [
       "[31, 17, 61, 19, 67]"
      ]
     },
     "execution_count": 5,
     "metadata": {},
     "output_type": "execute_result"
    }
   ],
   "source": [
    "PRIME"
   ]
  },
  {
   "cell_type": "code",
   "execution_count": null,
   "id": "cc579606",
   "metadata": {},
   "outputs": [],
   "source": []
  }
 ],
 "metadata": {
  "kernelspec": {
   "display_name": "Python 3 (ipykernel)",
   "language": "python",
   "name": "python3"
  },
  "language_info": {
   "codemirror_mode": {
    "name": "ipython",
    "version": 3
   },
   "file_extension": ".py",
   "mimetype": "text/x-python",
   "name": "python",
   "nbconvert_exporter": "python",
   "pygments_lexer": "ipython3",
   "version": "3.9.13"
  }
 },
 "nbformat": 4,
 "nbformat_minor": 5
}
