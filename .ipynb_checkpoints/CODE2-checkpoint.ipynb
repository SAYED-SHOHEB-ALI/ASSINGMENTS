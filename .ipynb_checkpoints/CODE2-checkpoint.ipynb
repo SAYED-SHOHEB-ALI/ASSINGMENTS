{
 "cells": [
  {
   "cell_type": "markdown",
   "id": "69936d0f",
   "metadata": {},
   "source": [
    "# Create four different user defined functions to check whether the string is a     GST Number, PAN Number, Driver's License Number or Adhaar Number.\n",
    "\n",
    "# As an example.\n",
    "\n",
    "# A PAN Number looks like this:\n",
    "\n",
    "# ABCDE1234F\n",
    "\n",
    "# A GST Number looks like this:\n",
    "\n",
    "# 12ABCDE3456F7G8\n",
    "\n",
    "# A Driver's Licence Number looks like this:\n",
    "\n",
    "# AB1234561234567\n",
    "\n",
    "# Adhaar Number looks like this:\n",
    "\n",
    "# 123412341234\n",
    "\n",
    "# Each function should return True if the number is PAN, GST, Driver's Licence or Adhaar Number otherwise it should return False\n",
    "\n",
    "# Check each of the four functions by passing a string to each of the functions and look for yourself that whether your function is working fine or not\n",
    " "
   ]
  },
  {
   "cell_type": "code",
   "execution_count": 1,
   "id": "01863757",
   "metadata": {},
   "outputs": [],
   "source": [
    "  def is_pan_number(string):\n",
    "        if len(string) != 10:\n",
    "            return False\n",
    "        else:\n",
    "            for character in string [0:5]:\n",
    "                if ord(character) < 65 or ord(character) > 90:\n",
    "                    return False\n",
    "            for character in string [5:9]:\n",
    "                if ord(character) < 48 or ord (character) > 57:\n",
    "                    return False\n",
    "            if character in string [9]:\n",
    "                if ord(character) < 65 or ord(character) > 90:\n",
    "                    return False\n",
    "            else:\n",
    "                return True"
   ]
  },
  {
   "cell_type": "code",
   "execution_count": 2,
   "id": "a3109b96",
   "metadata": {},
   "outputs": [
    {
     "data": {
      "text/plain": [
       "True"
      ]
     },
     "execution_count": 2,
     "metadata": {},
     "output_type": "execute_result"
    }
   ],
   "source": [
    "is_pan_number (\"BCDEF9815Z\")"
   ]
  },
  {
   "cell_type": "code",
   "execution_count": 3,
   "id": "bef103dc",
   "metadata": {},
   "outputs": [
    {
     "data": {
      "text/plain": [
       "True"
      ]
     },
     "execution_count": 3,
     "metadata": {},
     "output_type": "execute_result"
    }
   ],
   "source": [
    "is_pan_number(\"ABCDE1234F\")"
   ]
  },
  {
   "cell_type": "code",
   "execution_count": 4,
   "id": "81354670",
   "metadata": {},
   "outputs": [],
   "source": [
    "def is_gst_number(string):\n",
    "    if len(string) != 15:\n",
    "        return False\n",
    "    else:\n",
    "        for character in string [0:2]:\n",
    "            if ord(character) < 48 or ord (character) > 57:\n",
    "                return False\n",
    "        if is_pan_number (string[2:12]) == False:\n",
    "            return False\n",
    "        for character in string [12]:\n",
    "            if ord(character) < 48 or ord (character) > 57:\n",
    "                return False\n",
    "        for character in string [13]:\n",
    "            if ord(character) < 65 or ord (character) > 90:\n",
    "                return False\n",
    "        for character in string [14]:\n",
    "            if ord(character) < 48 or ord (character) > 57:\n",
    "                return False\n",
    "        else:\n",
    "            return True"
   ]
  },
  {
   "cell_type": "code",
   "execution_count": 5,
   "id": "9e232526",
   "metadata": {},
   "outputs": [
    {
     "data": {
      "text/plain": [
       "True"
      ]
     },
     "execution_count": 5,
     "metadata": {},
     "output_type": "execute_result"
    }
   ],
   "source": [
    "is_gst_number (\"12ABCDE3456F7G8\")"
   ]
  },
  {
   "cell_type": "code",
   "execution_count": 6,
   "id": "5e6b387d",
   "metadata": {},
   "outputs": [
    {
     "data": {
      "text/plain": [
       "True"
      ]
     },
     "execution_count": 6,
     "metadata": {},
     "output_type": "execute_result"
    }
   ],
   "source": [
    "is_gst_number(\"98ASDCV9875L9R9\")"
   ]
  },
  {
   "cell_type": "code",
   "execution_count": 7,
   "id": "b8cbd1af",
   "metadata": {},
   "outputs": [],
   "source": [
    "def is_driving_number(string):\n",
    "    if len(string) != 15:\n",
    "        return False\n",
    "    else:\n",
    "        for character in string [0:2]:\n",
    "            if ord(character) < 65 or ord (character) > 90:\n",
    "                return False\n",
    "        for character in string [2:14]:\n",
    "            if ord(character) < 48 or ord (character) > 57:\n",
    "                return False\n",
    "        else:\n",
    "            return True"
   ]
  },
  {
   "cell_type": "code",
   "execution_count": 8,
   "id": "1b8a96cd",
   "metadata": {},
   "outputs": [
    {
     "data": {
      "text/plain": [
       "True"
      ]
     },
     "execution_count": 8,
     "metadata": {},
     "output_type": "execute_result"
    }
   ],
   "source": [
    "is_driving_number (\"AB1234567891011\")"
   ]
  },
  {
   "cell_type": "code",
   "execution_count": 9,
   "id": "091fa40f",
   "metadata": {},
   "outputs": [
    {
     "data": {
      "text/plain": [
       "True"
      ]
     },
     "execution_count": 9,
     "metadata": {},
     "output_type": "execute_result"
    }
   ],
   "source": [
    "is_driving_number(\"QW9876543211012\")"
   ]
  },
  {
   "cell_type": "code",
   "execution_count": 10,
   "id": "4062d2e4",
   "metadata": {},
   "outputs": [],
   "source": [
    "def is_aadhar(string):\n",
    "    if len(string) != 12:\n",
    "        return False\n",
    "    else:\n",
    "        for character in string [0:12]:\n",
    "            if ord(character) < 48 or ord (character) > 57:\n",
    "                return False\n",
    "        else:\n",
    "            return True"
   ]
  },
  {
   "cell_type": "code",
   "execution_count": 11,
   "id": "e0636328",
   "metadata": {},
   "outputs": [
    {
     "data": {
      "text/plain": [
       "True"
      ]
     },
     "execution_count": 11,
     "metadata": {},
     "output_type": "execute_result"
    }
   ],
   "source": [
    "is_aadhar(\"123412341234\")"
   ]
  },
  {
   "cell_type": "code",
   "execution_count": 12,
   "id": "1ecec0c5",
   "metadata": {},
   "outputs": [
    {
     "data": {
      "text/plain": [
       "True"
      ]
     },
     "execution_count": 12,
     "metadata": {},
     "output_type": "execute_result"
    }
   ],
   "source": [
    "is_aadhar(\"987654321012\")"
   ]
  },
  {
   "cell_type": "code",
   "execution_count": 25,
   "id": "5f29fa42",
   "metadata": {},
   "outputs": [],
   "source": [
    "def pan(string):\n",
    "    if len(string) != 10:\n",
    "        return False\n",
    "    else:\n",
    "        string[0:5].isalpha() == True and string[5:9].isdigit() == True and string[9].isalpha() == True\n",
    "        return True\n",
    "    return False"
   ]
  },
  {
   "cell_type": "code",
   "execution_count": 27,
   "id": "445910e2",
   "metadata": {},
   "outputs": [
    {
     "data": {
      "text/plain": [
       "True"
      ]
     },
     "execution_count": 27,
     "metadata": {},
     "output_type": "execute_result"
    }
   ],
   "source": [
    "pan(\"abcde1234f\")"
   ]
  },
  {
   "cell_type": "code",
   "execution_count": 28,
   "id": "6250c5c7",
   "metadata": {},
   "outputs": [
    {
     "data": {
      "text/plain": [
       "True"
      ]
     },
     "execution_count": 28,
     "metadata": {},
     "output_type": "execute_result"
    }
   ],
   "source": [
    "pan(\"ABCDE1234F\")"
   ]
  },
  {
   "cell_type": "markdown",
   "id": "f923bfba",
   "metadata": {},
   "source": [
    "# This solution works only for alphabet & number BUT cannot  identify in lower case & upper case "
   ]
  },
  {
   "cell_type": "code",
   "execution_count": 13,
   "id": "c209e6b7",
   "metadata": {},
   "outputs": [],
   "source": [
    "o_r_d = {}"
   ]
  },
  {
   "cell_type": "code",
   "execution_count": 14,
   "id": "3fb6246f",
   "metadata": {},
   "outputs": [
    {
     "data": {
      "text/plain": [
       "{}"
      ]
     },
     "execution_count": 14,
     "metadata": {},
     "output_type": "execute_result"
    }
   ],
   "source": [
    "o_r_d"
   ]
  },
  {
   "cell_type": "code",
   "execution_count": 15,
   "id": "803062b6",
   "metadata": {},
   "outputs": [],
   "source": [
    "for asci in range(48,58):\n",
    "    o_r_d[chr(asci)] = asci"
   ]
  },
  {
   "cell_type": "code",
   "execution_count": 16,
   "id": "29b4a4c7",
   "metadata": {},
   "outputs": [
    {
     "data": {
      "text/plain": [
       "{'0': 48,\n",
       " '1': 49,\n",
       " '2': 50,\n",
       " '3': 51,\n",
       " '4': 52,\n",
       " '5': 53,\n",
       " '6': 54,\n",
       " '7': 55,\n",
       " '8': 56,\n",
       " '9': 57}"
      ]
     },
     "execution_count": 16,
     "metadata": {},
     "output_type": "execute_result"
    }
   ],
   "source": [
    "o_r_d"
   ]
  },
  {
   "cell_type": "code",
   "execution_count": 23,
   "id": "c4ab0b0c",
   "metadata": {
    "scrolled": true
   },
   "outputs": [],
   "source": [
    "number={}\n",
    "for asci in range (48,123):\n",
    "    if asci <= 50 or asci >= 100:\n",
    "        number[chr(asci)] = asci"
   ]
  },
  {
   "cell_type": "code",
   "execution_count": 24,
   "id": "668a095d",
   "metadata": {},
   "outputs": [
    {
     "data": {
      "text/plain": [
       "{'0': 48,\n",
       " '1': 49,\n",
       " '2': 50,\n",
       " 'd': 100,\n",
       " 'e': 101,\n",
       " 'f': 102,\n",
       " 'g': 103,\n",
       " 'h': 104,\n",
       " 'i': 105,\n",
       " 'j': 106,\n",
       " 'k': 107,\n",
       " 'l': 108,\n",
       " 'm': 109,\n",
       " 'n': 110,\n",
       " 'o': 111,\n",
       " 'p': 112,\n",
       " 'q': 113,\n",
       " 'r': 114,\n",
       " 's': 115,\n",
       " 't': 116,\n",
       " 'u': 117,\n",
       " 'v': 118,\n",
       " 'w': 119,\n",
       " 'x': 120,\n",
       " 'y': 121,\n",
       " 'z': 122}"
      ]
     },
     "execution_count": 24,
     "metadata": {},
     "output_type": "execute_result"
    }
   ],
   "source": [
    "number"
   ]
  },
  {
   "cell_type": "code",
   "execution_count": 19,
   "id": "bc6f3ce5",
   "metadata": {},
   "outputs": [],
   "source": [
    "A = dict()\n",
    "for asci in range (48,123):\n",
    "    if asci <= 48 and asci >= 57:\n",
    "        A[chr(asci)] = asci\n",
    "    if asci <= 65 and asci >= 90:\n",
    "        A[chr(asci)] = asci\n",
    "    if asci <= 97 and asci >= 122:\n",
    "        A[chr(asci)] = asci"
   ]
  },
  {
   "cell_type": "code",
   "execution_count": 20,
   "id": "5a2a1d4e",
   "metadata": {},
   "outputs": [
    {
     "data": {
      "text/plain": [
       "{}"
      ]
     },
     "execution_count": 20,
     "metadata": {},
     "output_type": "execute_result"
    }
   ],
   "source": [
    "A"
   ]
  },
  {
   "cell_type": "code",
   "execution_count": 21,
   "id": "530cf8c7",
   "metadata": {},
   "outputs": [],
   "source": [
    "A = dict()\n",
    "for asci in range (48,123):\n",
    "    if asci >= 48 and asci <= 57:\n",
    "        A[chr(asci)] = asci\n",
    "    if asci >= 65 and asci <= 90:\n",
    "        A[chr(asci)] = asci\n",
    "    if asci >= 97 and asci <= 122:\n",
    "        A[chr(asci)] = asci"
   ]
  },
  {
   "cell_type": "code",
   "execution_count": 22,
   "id": "afe8c40e",
   "metadata": {},
   "outputs": [
    {
     "data": {
      "text/plain": [
       "{'0': 48,\n",
       " '1': 49,\n",
       " '2': 50,\n",
       " '3': 51,\n",
       " '4': 52,\n",
       " '5': 53,\n",
       " '6': 54,\n",
       " '7': 55,\n",
       " '8': 56,\n",
       " '9': 57,\n",
       " 'A': 65,\n",
       " 'B': 66,\n",
       " 'C': 67,\n",
       " 'D': 68,\n",
       " 'E': 69,\n",
       " 'F': 70,\n",
       " 'G': 71,\n",
       " 'H': 72,\n",
       " 'I': 73,\n",
       " 'J': 74,\n",
       " 'K': 75,\n",
       " 'L': 76,\n",
       " 'M': 77,\n",
       " 'N': 78,\n",
       " 'O': 79,\n",
       " 'P': 80,\n",
       " 'Q': 81,\n",
       " 'R': 82,\n",
       " 'S': 83,\n",
       " 'T': 84,\n",
       " 'U': 85,\n",
       " 'V': 86,\n",
       " 'W': 87,\n",
       " 'X': 88,\n",
       " 'Y': 89,\n",
       " 'Z': 90,\n",
       " 'a': 97,\n",
       " 'b': 98,\n",
       " 'c': 99,\n",
       " 'd': 100,\n",
       " 'e': 101,\n",
       " 'f': 102,\n",
       " 'g': 103,\n",
       " 'h': 104,\n",
       " 'i': 105,\n",
       " 'j': 106,\n",
       " 'k': 107,\n",
       " 'l': 108,\n",
       " 'm': 109,\n",
       " 'n': 110,\n",
       " 'o': 111,\n",
       " 'p': 112,\n",
       " 'q': 113,\n",
       " 'r': 114,\n",
       " 's': 115,\n",
       " 't': 116,\n",
       " 'u': 117,\n",
       " 'v': 118,\n",
       " 'w': 119,\n",
       " 'x': 120,\n",
       " 'y': 121,\n",
       " 'z': 122}"
      ]
     },
     "execution_count": 22,
     "metadata": {},
     "output_type": "execute_result"
    }
   ],
   "source": [
    "A"
   ]
  },
  {
   "cell_type": "code",
   "execution_count": null,
   "id": "0416a636",
   "metadata": {},
   "outputs": [],
   "source": []
  }
 ],
 "metadata": {
  "kernelspec": {
   "display_name": "Python 3 (ipykernel)",
   "language": "python",
   "name": "python3"
  },
  "language_info": {
   "codemirror_mode": {
    "name": "ipython",
    "version": 3
   },
   "file_extension": ".py",
   "mimetype": "text/x-python",
   "name": "python",
   "nbconvert_exporter": "python",
   "pygments_lexer": "ipython3",
   "version": "3.9.13"
  }
 },
 "nbformat": 4,
 "nbformat_minor": 5
}
