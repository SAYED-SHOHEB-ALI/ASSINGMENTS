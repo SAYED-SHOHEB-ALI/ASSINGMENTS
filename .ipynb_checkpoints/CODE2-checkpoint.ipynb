{
 "cells": [
  {
   "cell_type": "markdown",
   "id": "69936d0f",
   "metadata": {},
   "source": [
    "# Create four different user defined functions to check whether the string is a     GST Number, PAN Number, Driver's License Number or Adhaar Number.\n",
    "\n",
    "# As an example.\n",
    "\n",
    "# A PAN Number looks like this:\n",
    "\n",
    "# ABCDE1234F\n",
    "\n",
    "# A GST Number looks like this:\n",
    "\n",
    "# 12ABCDE3456F7G8\n",
    "\n",
    "# A Driver's Licence Number looks like this:\n",
    "\n",
    "# AB1234561234567\n",
    "\n",
    "# Adhaar Number looks like this:\n",
    "\n",
    "# 123412341234\n",
    "\n",
    "# Each function should return True if the number is PAN, GST, Driver's Licence or Adhaar Number otherwise it should return False\n",
    "\n",
    "# Check each of the four functions by passing a string to each of the functions and look for yourself that whether your function is working fine or not\n",
    " "
   ]
  },
  {
   "cell_type": "code",
   "execution_count": 1,
   "id": "01863757",
   "metadata": {},
   "outputs": [],
   "source": [
    "  def is_pan_number(string):\n",
    "        if len(string) != 10:\n",
    "            return False\n",
    "        else:\n",
    "            for character in string [0:5]:\n",
    "                if ord(character) < 65 or ord(character) > 90:\n",
    "                    return False\n",
    "            for character in string [5:9]:\n",
    "                if ord(character) < 48 or ord (character) > 57:\n",
    "                    return False\n",
    "            if character in string [9]:\n",
    "                if ord(character) < 65 or ord(character) > 90:\n",
    "                    return False\n",
    "            else:\n",
    "                return True"
   ]
  },
  {
   "cell_type": "code",
   "execution_count": 2,
   "id": "a3109b96",
   "metadata": {},
   "outputs": [
    {
     "data": {
      "text/plain": [
       "True"
      ]
     },
     "execution_count": 2,
     "metadata": {},
     "output_type": "execute_result"
    }
   ],
   "source": [
    "is_pan_number (\"BCDEF9815Z\")"
   ]
  },
  {
   "cell_type": "code",
   "execution_count": 3,
   "id": "bef103dc",
   "metadata": {},
   "outputs": [
    {
     "data": {
      "text/plain": [
       "True"
      ]
     },
     "execution_count": 3,
     "metadata": {},
     "output_type": "execute_result"
    }
   ],
   "source": [
    "is_pan_number(\"ABCDE1234F\")"
   ]
  },
  {
   "cell_type": "code",
   "execution_count": 4,
   "id": "81354670",
   "metadata": {},
   "outputs": [],
   "source": [
    "def is_gst_number(string):\n",
    "    if len(string) != 15:\n",
    "        return False\n",
    "    else:\n",
    "        for character in string [0:2]:\n",
    "            if ord(character) < 48 or ord (character) > 57:\n",
    "                return False\n",
    "        if is_pan_number (string[2:12]) == False:\n",
    "            return False\n",
    "        for character in string [12]:\n",
    "            if ord(character) < 48 or ord (character) > 57:\n",
    "                return False\n",
    "        for character in string [13]:\n",
    "            if ord(character) < 65 or ord (character) > 90:\n",
    "                return False\n",
    "        for character in string [14]:\n",
    "            if ord(character) < 48 or ord (character) > 57:\n",
    "                return False\n",
    "        else:\n",
    "            return True"
   ]
  },
  {
   "cell_type": "code",
   "execution_count": 5,
   "id": "9e232526",
   "metadata": {},
   "outputs": [
    {
     "data": {
      "text/plain": [
       "True"
      ]
     },
     "execution_count": 5,
     "metadata": {},
     "output_type": "execute_result"
    }
   ],
   "source": [
    "is_gst_number (\"12ABCDE3456F7G8\")"
   ]
  },
  {
   "cell_type": "code",
   "execution_count": 14,
   "id": "5e6b387d",
   "metadata": {},
   "outputs": [
    {
     "data": {
      "text/plain": [
       "True"
      ]
     },
     "execution_count": 14,
     "metadata": {},
     "output_type": "execute_result"
    }
   ],
   "source": [
    "is_gst_number(\"98ASDCV9875L9R9\")"
   ]
  },
  {
   "cell_type": "code",
   "execution_count": 7,
   "id": "b8cbd1af",
   "metadata": {},
   "outputs": [],
   "source": [
    "def is_driving_number(string):\n",
    "    if len(string) != 15:\n",
    "        return False\n",
    "    else:\n",
    "        for character in string [0:2]:\n",
    "            if ord(character) < 65 or ord (character) > 90:\n",
    "                return False\n",
    "        for character in string [2:14]:\n",
    "            if ord(character) < 48 or ord (character) > 57:\n",
    "                return False\n",
    "        else:\n",
    "            return True"
   ]
  },
  {
   "cell_type": "code",
   "execution_count": 8,
   "id": "1b8a96cd",
   "metadata": {},
   "outputs": [
    {
     "data": {
      "text/plain": [
       "True"
      ]
     },
     "execution_count": 8,
     "metadata": {},
     "output_type": "execute_result"
    }
   ],
   "source": [
    "is_driving_number (\"AB1234567891011\")"
   ]
  },
  {
   "cell_type": "code",
   "execution_count": 9,
   "id": "091fa40f",
   "metadata": {},
   "outputs": [
    {
     "data": {
      "text/plain": [
       "True"
      ]
     },
     "execution_count": 9,
     "metadata": {},
     "output_type": "execute_result"
    }
   ],
   "source": [
    "is_driving_number(\"QW9876543211012\")"
   ]
  },
  {
   "cell_type": "code",
   "execution_count": 10,
   "id": "4062d2e4",
   "metadata": {},
   "outputs": [],
   "source": [
    "def is_aadhar(string):\n",
    "    if len(string) != 12:\n",
    "        return False\n",
    "    else:\n",
    "        for character in string [0:12]:\n",
    "            if ord(character) < 48 or ord (character) > 57:\n",
    "                return False\n",
    "        else:\n",
    "            return True"
   ]
  },
  {
   "cell_type": "code",
   "execution_count": 11,
   "id": "e0636328",
   "metadata": {},
   "outputs": [
    {
     "data": {
      "text/plain": [
       "True"
      ]
     },
     "execution_count": 11,
     "metadata": {},
     "output_type": "execute_result"
    }
   ],
   "source": [
    "is_aadhar(\"123412341234\")"
   ]
  },
  {
   "cell_type": "code",
   "execution_count": 12,
   "id": "1ecec0c5",
   "metadata": {},
   "outputs": [
    {
     "data": {
      "text/plain": [
       "True"
      ]
     },
     "execution_count": 12,
     "metadata": {},
     "output_type": "execute_result"
    }
   ],
   "source": [
    "is_aadhar(\"987654321012\")"
   ]
  },
  {
   "cell_type": "code",
   "execution_count": null,
   "id": "c209e6b7",
   "metadata": {},
   "outputs": [],
   "source": []
  }
 ],
 "metadata": {
  "kernelspec": {
   "display_name": "Python 3 (ipykernel)",
   "language": "python",
   "name": "python3"
  },
  "language_info": {
   "codemirror_mode": {
    "name": "ipython",
    "version": 3
   },
   "file_extension": ".py",
   "mimetype": "text/x-python",
   "name": "python",
   "nbconvert_exporter": "python",
   "pygments_lexer": "ipython3",
   "version": "3.9.13"
  }
 },
 "nbformat": 4,
 "nbformat_minor": 5
}
