{
 "cells": [
  {
   "cell_type": "markdown",
   "id": "f4ea7453",
   "metadata": {},
   "source": [
    "# CODE 1 ASSINGMENT"
   ]
  },
  {
   "cell_type": "markdown",
   "id": "f4fa034d",
   "metadata": {},
   "source": [
    "# ASSINGMENT 1 DETAILS"
   ]
  },
  {
   "cell_type": "markdown",
   "id": "d7b5e361",
   "metadata": {},
   "source": [
    "# LIST [ 25, 36, 31, 17, 61, 19, 58, 39, 67, 81 ]"
   ]
  },
  {
   "cell_type": "markdown",
   "id": "5a617d2e",
   "metadata": {},
   "source": [
    "# OUTPUT    { 'EVEN' : [    ] , 'PRIME' : [              ] }"
   ]
  },
  {
   "cell_type": "code",
   "execution_count": 1,
   "id": "dfba0908",
   "metadata": {},
   "outputs": [],
   "source": [
    "l=[25,36,31,17,61,19,58,39,67,81]"
   ]
  },
  {
   "cell_type": "code",
   "execution_count": 2,
   "id": "030905f5",
   "metadata": {},
   "outputs": [
    {
     "data": {
      "text/plain": [
       "[25, 36, 31, 17, 61, 19, 58, 39, 67, 81]"
      ]
     },
     "execution_count": 2,
     "metadata": {},
     "output_type": "execute_result"
    }
   ],
   "source": [
    "l"
   ]
  },
  {
   "cell_type": "code",
   "execution_count": 3,
   "id": "bb9e681e",
   "metadata": {},
   "outputs": [
    {
     "name": "stdout",
     "output_type": "stream",
     "text": [
      "The number 36 is EVEN\n",
      "The number 31 is prime\n",
      "The number 17 is prime\n",
      "The number 61 is prime\n",
      "The number 19 is prime\n",
      "The number 58 is EVEN\n",
      "The number 67 is prime\n",
      "{'EVEN': [36, 58], 'PRIME': [31, 17, 61, 19, 67]}\n"
     ]
    }
   ],
   "source": [
    "EVEN = []\n",
    "PRIME = []\n",
    "for i in range (0,10):\n",
    "    if l[i] % 2 == 0:\n",
    "        print(\"The number {} is EVEN\".format(l[i]))\n",
    "        EVEN.append(l[i])\n",
    "    else:\n",
    "        for divisor in range(2,l[i]):\n",
    "            if l[i] % divisor == 0 :\n",
    "                break\n",
    "        if divisor == (l[i] -1) :\n",
    "            print(\"The number {} is prime\".format(l[i]))\n",
    "            PRIME.append(l[i])\n",
    "d = dict(zip([\"EVEN\",\"PRIME\"],[EVEN,PRIME]))\n",
    "print(d)"
   ]
  },
  {
   "cell_type": "code",
   "execution_count": 4,
   "id": "7a571702",
   "metadata": {},
   "outputs": [
    {
     "data": {
      "text/plain": [
       "[36, 58]"
      ]
     },
     "execution_count": 4,
     "metadata": {},
     "output_type": "execute_result"
    }
   ],
   "source": [
    "EVEN"
   ]
  },
  {
   "cell_type": "code",
   "execution_count": 5,
   "id": "23e71cb1",
   "metadata": {},
   "outputs": [
    {
     "data": {
      "text/plain": [
       "[31, 17, 61, 19, 67]"
      ]
     },
     "execution_count": 5,
     "metadata": {},
     "output_type": "execute_result"
    }
   ],
   "source": [
    "PRIME"
   ]
  },
  {
   "cell_type": "code",
   "execution_count": 6,
   "id": "cc579606",
   "metadata": {},
   "outputs": [],
   "source": [
    "Z=[2,5,7,9,10]"
   ]
  },
  {
   "cell_type": "code",
   "execution_count": 12,
   "id": "f13ac166",
   "metadata": {},
   "outputs": [
    {
     "ename": "NameError",
     "evalue": "name 'number' is not defined",
     "output_type": "error",
     "traceback": [
      "\u001b[1;31m---------------------------------------------------------------------------\u001b[0m",
      "\u001b[1;31mNameError\u001b[0m                                 Traceback (most recent call last)",
      "\u001b[1;32m~\\AppData\\Local\\Temp\\ipykernel_3236\\1676702247.py\u001b[0m in \u001b[0;36m<module>\u001b[1;34m\u001b[0m\n\u001b[0;32m      9\u001b[0m                 \u001b[1;32mbreak\u001b[0m\u001b[1;33m\u001b[0m\u001b[1;33m\u001b[0m\u001b[0m\n\u001b[0;32m     10\u001b[0m             \u001b[1;32mif\u001b[0m \u001b[0mdivisor\u001b[0m \u001b[1;33m==\u001b[0m \u001b[1;33m(\u001b[0m\u001b[0mZ\u001b[0m\u001b[1;33m[\u001b[0m\u001b[0mi\u001b[0m\u001b[1;33m]\u001b[0m\u001b[1;33m-\u001b[0m\u001b[1;36m1\u001b[0m\u001b[1;33m)\u001b[0m\u001b[1;33m:\u001b[0m\u001b[1;33m\u001b[0m\u001b[1;33m\u001b[0m\u001b[0m\n\u001b[1;32m---> 11\u001b[1;33m                 \u001b[0mP\u001b[0m\u001b[1;33m.\u001b[0m\u001b[0mappend\u001b[0m\u001b[1;33m(\u001b[0m\u001b[0mnumber\u001b[0m\u001b[1;33m)\u001b[0m\u001b[1;33m\u001b[0m\u001b[1;33m\u001b[0m\u001b[0m\n\u001b[0m",
      "\u001b[1;31mNameError\u001b[0m: name 'number' is not defined"
     ]
    }
   ],
   "source": [
    "E=[]\n",
    "P=[]\n",
    "for i in range (0,5):\n",
    "    if Z[i] % 2 == 0:\n",
    "        E.append(Z[i])\n",
    "    else:\n",
    "        for divisor in range(2,Z[i]):\n",
    "            if Z[i] % divisor == 0:\n",
    "                break\n",
    "            if divisor == (Z[i]-1):\n",
    "                P.append(number)"
   ]
  },
  {
   "cell_type": "code",
   "execution_count": 11,
   "id": "8522af12",
   "metadata": {},
   "outputs": [
    {
     "data": {
      "text/plain": [
       "[2, 10]"
      ]
     },
     "execution_count": 11,
     "metadata": {},
     "output_type": "execute_result"
    }
   ],
   "source": [
    "E"
   ]
  },
  {
   "cell_type": "code",
   "execution_count": 9,
   "id": "afadc721",
   "metadata": {},
   "outputs": [
    {
     "data": {
      "text/plain": [
       "[]"
      ]
     },
     "execution_count": 9,
     "metadata": {},
     "output_type": "execute_result"
    }
   ],
   "source": [
    "P"
   ]
  },
  {
   "cell_type": "code",
   "execution_count": null,
   "id": "66866aac",
   "metadata": {},
   "outputs": [],
   "source": []
  }
 ],
 "metadata": {
  "kernelspec": {
   "display_name": "Python 3 (ipykernel)",
   "language": "python",
   "name": "python3"
  },
  "language_info": {
   "codemirror_mode": {
    "name": "ipython",
    "version": 3
   },
   "file_extension": ".py",
   "mimetype": "text/x-python",
   "name": "python",
   "nbconvert_exporter": "python",
   "pygments_lexer": "ipython3",
   "version": "3.9.13"
  }
 },
 "nbformat": 4,
 "nbformat_minor": 5
}
