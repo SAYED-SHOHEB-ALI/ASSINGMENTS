{
 "cells": [
  {
   "cell_type": "markdown",
   "id": "f4ea7453",
   "metadata": {},
   "source": [
    "# CODE 1 ASSINGMENT"
   ]
  },
  {
   "cell_type": "markdown",
   "id": "f4fa034d",
   "metadata": {},
   "source": [
    "# ASSINGMENT 1 DETAILS"
   ]
  },
  {
   "cell_type": "markdown",
   "id": "d7b5e361",
   "metadata": {},
   "source": [
    "# LIST [ 25, 36, 31, 17, 61, 19, 58, 39, 67, 81 ]"
   ]
  },
  {
   "cell_type": "markdown",
   "id": "5a617d2e",
   "metadata": {},
   "source": [
    "# OUTPUT    { 'EVEN' : [    ] , 'PRIME' : [              ] }"
   ]
  },
  {
   "cell_type": "code",
   "execution_count": null,
   "id": "dfba0908",
   "metadata": {},
   "outputs": [],
   "source": []
  },
  {
   "cell_type": "code",
   "execution_count": null,
   "id": "c6dc6ff7",
   "metadata": {},
   "outputs": [],
   "source": []
  },
  {
   "cell_type": "code",
   "execution_count": null,
   "id": "030905f5",
   "metadata": {},
   "outputs": [],
   "source": []
  },
  {
   "cell_type": "code",
   "execution_count": null,
   "id": "bb9e681e",
   "metadata": {},
   "outputs": [],
   "source": []
  }
 ],
 "metadata": {
  "kernelspec": {
   "display_name": "Python 3 (ipykernel)",
   "language": "python",
   "name": "python3"
  },
  "language_info": {
   "codemirror_mode": {
    "name": "ipython",
    "version": 3
   },
   "file_extension": ".py",
   "mimetype": "text/x-python",
   "name": "python",
   "nbconvert_exporter": "python",
   "pygments_lexer": "ipython3",
   "version": "3.9.13"
  }
 },
 "nbformat": 4,
 "nbformat_minor": 5
}
