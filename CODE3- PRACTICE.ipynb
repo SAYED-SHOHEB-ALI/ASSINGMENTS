{
 "cells": [
  {
   "cell_type": "code",
   "execution_count": 1,
   "id": "314ad47a",
   "metadata": {},
   "outputs": [],
   "source": [
    "def prime(x,divisor):\n",
    "    if x==1 or x==2:\n",
    "        return \"Prime\"\n",
    "    else:\n",
    "        if x == divisor:\n",
    "            return \"Prime\"\n",
    "        if x % divisor == 0:\n",
    "            return \"Not Prime\"\n",
    "        A = prime(x,divisor+1)\n",
    "    return A"
   ]
  },
  {
   "cell_type": "code",
   "execution_count": 2,
   "id": "8a724567",
   "metadata": {},
   "outputs": [],
   "source": [
    "def num(x):\n",
    "    if x % 2 == 0:\n",
    "        return \"Even\"\n",
    "    else:\n",
    "        result = prime(x,2)\n",
    "        return result"
   ]
  },
  {
   "cell_type": "code",
   "execution_count": 3,
   "id": "3cb0b329",
   "metadata": {},
   "outputs": [
    {
     "data": {
      "text/plain": [
       "'Not Prime'"
      ]
     },
     "execution_count": 3,
     "metadata": {},
     "output_type": "execute_result"
    }
   ],
   "source": [
    "num(9)"
   ]
  },
  {
   "cell_type": "code",
   "execution_count": 4,
   "id": "4ba9613c",
   "metadata": {},
   "outputs": [],
   "source": [
    "EVEN= []\n",
    "PRIME= []\n",
    "N = [1,2,3,4,5,6,7,8,9,10]\n",
    "for x in N:\n",
    "    if num(x) == \"Even\":\n",
    "        EVEN.append(x)\n",
    "    if num(x) == \"Prime\":\n",
    "        PRIME.append(x)"
   ]
  },
  {
   "cell_type": "code",
   "execution_count": 5,
   "id": "97c91989",
   "metadata": {},
   "outputs": [
    {
     "data": {
      "text/plain": [
       "[2, 4, 6, 8, 10]"
      ]
     },
     "execution_count": 5,
     "metadata": {},
     "output_type": "execute_result"
    }
   ],
   "source": [
    "EVEN"
   ]
  },
  {
   "cell_type": "code",
   "execution_count": 6,
   "id": "31d95c20",
   "metadata": {},
   "outputs": [
    {
     "data": {
      "text/plain": [
       "[1, 3, 5, 7]"
      ]
     },
     "execution_count": 6,
     "metadata": {},
     "output_type": "execute_result"
    }
   ],
   "source": [
    "PRIME"
   ]
  },
  {
   "cell_type": "code",
   "execution_count": 10,
   "id": "e025b3f9",
   "metadata": {},
   "outputs": [],
   "source": [
    "def even_prime_list_creation(Y,e,p,index):\n",
    "    if index == 10 :\n",
    "        return e,p\n",
    "    else:\n",
    "        if num(Y[index]) == \"Even\":\n",
    "            e.append(Y[index])\n",
    "        if num(Y[index]) == \"Prime\":\n",
    "            p.append(Y[index]) \n",
    "        index = index + 1\n",
    "        even,prime = even_prime_list_creation(Y,e,p,index)\n",
    "        return even,prime"
   ]
  },
  {
   "cell_type": "code",
   "execution_count": 11,
   "id": "770ce2dc",
   "metadata": {},
   "outputs": [],
   "source": [
    "Y = [11,12,13,14,15,16,17,18,19,20]\n",
    "e = []\n",
    "p = []"
   ]
  },
  {
   "cell_type": "code",
   "execution_count": 12,
   "id": "6288a5c6",
   "metadata": {},
   "outputs": [],
   "source": [
    "e,p = even_prime_list_creation(Y,e,p,0)"
   ]
  },
  {
   "cell_type": "code",
   "execution_count": 13,
   "id": "e264579d",
   "metadata": {},
   "outputs": [
    {
     "data": {
      "text/plain": [
       "[12, 14, 16, 18, 20]"
      ]
     },
     "execution_count": 13,
     "metadata": {},
     "output_type": "execute_result"
    }
   ],
   "source": [
    "e"
   ]
  },
  {
   "cell_type": "code",
   "execution_count": 14,
   "id": "ec710f74",
   "metadata": {},
   "outputs": [
    {
     "data": {
      "text/plain": [
       "[11, 13, 17, 19]"
      ]
     },
     "execution_count": 14,
     "metadata": {},
     "output_type": "execute_result"
    }
   ],
   "source": [
    "p"
   ]
  },
  {
   "cell_type": "code",
   "execution_count": null,
   "id": "75ee41cd",
   "metadata": {},
   "outputs": [],
   "source": []
  }
 ],
 "metadata": {
  "kernelspec": {
   "display_name": "Python 3 (ipykernel)",
   "language": "python",
   "name": "python3"
  },
  "language_info": {
   "codemirror_mode": {
    "name": "ipython",
    "version": 3
   },
   "file_extension": ".py",
   "mimetype": "text/x-python",
   "name": "python",
   "nbconvert_exporter": "python",
   "pygments_lexer": "ipython3",
   "version": "3.9.13"
  }
 },
 "nbformat": 4,
 "nbformat_minor": 5
}
