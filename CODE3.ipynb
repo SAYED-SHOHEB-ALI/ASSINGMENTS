{
 "cells": [
  {
   "cell_type": "markdown",
   "id": "2004fae5",
   "metadata": {},
   "source": [
    "# Write a program to go through 1000 random integers and check whether they are even or prime. In order to create a list of 1000 random integers, you can write the following statement:\n",
    "# import numpy as np\n",
    "# random_integers = np.random.randint(low=0, high=2000, size=(1000,))\n",
    "# Now pass the list of these 1000 random integers to a user defined function called even_prime_list_creation. This function will accept a list of 1000 random integers and return two lists of even as well as prime numbers. Make sure that your function does this in a recursive manner (remember that you can't use loop to go through each number in a list of 1000 random integers, that has to be done in a recursive manner)\n",
    "# Now, in order to create a list of even as well as prime numbers, even_prime_list_creation should know that which number is an even number and which number is a prime number. Well even number is easy to check so your function even_prime_list_creation can itself check whether the number is even or not but in order to check whether the number is prime or not, even_prime_list_creation is going to call another function called is_prime. This, is_prime function will accept a number and check whether it's prime or not in a recursive manner (again you can't use a loop to check whether the number is prime or not, that has to be done in a recursive manner) and is going to return True or False accordingly.\n",
    "# So, both functions should do their job in a recursive manner. And the final outcome should be two lists, one of even number and one of prime numbers."
   ]
  },
  {
   "cell_type": "code",
   "execution_count": 1,
   "id": "0c9d1cd3",
   "metadata": {},
   "outputs": [],
   "source": [
    "import numpy as np\n",
    "random_integers = np.random.randint(low=0, high=2000, size=(1000,))"
   ]
  },
  {
   "cell_type": "code",
   "execution_count": 2,
   "id": "a7554743",
   "metadata": {},
   "outputs": [
    {
     "data": {
      "text/plain": [
       "array([ 241,  665, 1312, 1958, 1822,  199,  304,   15, 1777,  224, 1684,\n",
       "        990,   49,  274,  496, 1047, 1765, 1052, 1007,   11, 1267,  668,\n",
       "       1461,  413, 1846, 1380, 1996,  220, 1027,  387,  740,  780, 1817,\n",
       "        282,  785, 1088, 1182,  633,  775, 1888,  853, 1726,  255,  273,\n",
       "        327, 1781, 1814, 1910, 1537,   96,  333, 1122,  434,  114, 1701,\n",
       "         97,   15,  272,  703,  176, 1398,  478, 1109,  109,  427,  352,\n",
       "        972,  897, 1801, 1808,  383,  241,  345,    3, 1603, 1876, 1791,\n",
       "       1356, 1643, 1564, 1184,   94, 1634,  168,   62,  410,  925, 1473,\n",
       "       1895,  644,  309,  173,  364,  441,   31,  779, 1403,  247, 1691,\n",
       "       1816, 1223,  454, 1646, 1446, 1789,  477,  153,   66,   59, 1086,\n",
       "       1798,  974, 1441,  346, 1732,  668, 1086, 1557,  338, 1671,   28,\n",
       "       1065,   17,  317, 1877,  981, 1923, 1008,   91,  157,  449,  575,\n",
       "        694, 1917, 1735,  651, 1472, 1014, 1298, 1467,  117,  992, 1670,\n",
       "       1037,  712, 1671,  588,  867, 1390,  714, 1736,  919,  690,  905,\n",
       "       1318, 1773, 1542,  998, 1223, 1324,  572,  579, 1822, 1371, 1562,\n",
       "       1893, 1033, 1590, 1151, 1707,  403,  599, 1332, 1416,  439, 1474,\n",
       "        958,  464, 1682, 1464,  356, 1471, 1825, 1160,  198,  190, 1066,\n",
       "       1222, 1020, 1000,  760, 1226,  817, 1229, 1027,  195,  301,  134,\n",
       "         70, 1871,  393, 1552, 1230, 1377,  490, 1498,  285, 1796, 1057,\n",
       "       1127, 1315,  316,  917, 1331, 1652, 1890,  247, 1691,  284, 1491,\n",
       "       1289,  131, 1123,  145,   29, 1992, 1161, 1960,    7, 1921,  953,\n",
       "       1942,  197,   29, 1576, 1556,  526,  336, 1430,  803, 1155,  783,\n",
       "       1477,  363, 1470, 1444,  237,  882, 1015,   45, 1586, 1082, 1980,\n",
       "       1006, 1851, 1784, 1672, 1513,  368, 1696,  641, 1708, 1865,  907,\n",
       "        732,  361, 1867,   71,  975, 1051, 1110, 1506, 1478,  412,  854,\n",
       "        721,  236,  370,  581,  457, 1378,  927, 1121, 1526,  559,  110,\n",
       "       1963,  558,  937,   14,  164, 1311,  846, 1540, 1702,  485,   55,\n",
       "        263, 1142,  334,  270,  396,  134,  576, 1940,  758, 1207, 1115,\n",
       "         64,  446,   42, 1896,  655, 1259, 1657,  287, 1963, 1786, 1092,\n",
       "        529,  610,  252,   62,   22,  917, 1809,  736,  746,  683,  944,\n",
       "       1088, 1761,  559, 1561, 1377, 1445,  644,   36,  491,   67,  297,\n",
       "        302, 1748,  854, 1513,  121, 1476,  831, 1359, 1830, 1130,  403,\n",
       "        578, 1284, 1521,  573,  854, 1726,  789, 1471, 1899,  604,  942,\n",
       "       1235, 1088, 1109,  492,  613,  499, 1261,  754,  767,  764,  226,\n",
       "        158, 1866,  134, 1240,  284, 1651, 1562,  118, 1178,  663, 1977,\n",
       "        296, 1148, 1467,  464,  533, 1283,  480, 1989, 1694, 1320, 1986,\n",
       "        496, 1124,  365, 1484,  291,  636, 1558,  103, 1194, 1393,  573,\n",
       "       1603,  959,  983,  186, 1565,  634, 1973, 1150, 1478, 1373,  135,\n",
       "       1307,  412,  729,  553,  741, 1714,  436,  403, 1464, 1177,  989,\n",
       "        318, 1805, 1437, 1704, 1121,  852, 1259, 1258,  103,  968,   26,\n",
       "        654, 1585,  522, 1585, 1052, 1052, 1162, 1164,  870, 1970, 1374,\n",
       "       1766,  574, 1127, 1891,  987,   86,  112,  846, 1741, 1132,  971,\n",
       "       1690, 1307, 1634,  155,  867,  367, 1132, 1644,  302, 1023,  627,\n",
       "       1182,  360, 1676, 1112, 1879,  997, 1980,  964,  284, 1757, 1659,\n",
       "        358,   77,  980, 1766, 1802, 1877,  325,   75,  486,  450, 1476,\n",
       "        205,  215,  389,  538, 1322,  110,  855, 1476, 1128, 1076,  399,\n",
       "       1555, 1707,  506,  354,  288, 1146,  446,  198,  778, 1484, 1241,\n",
       "        780,  739, 1675, 1608, 1839, 1045, 1628, 1751,  819,  144,  651,\n",
       "       1172,  177, 1798,  393, 1909, 1656,  234, 1541,  103,  796,  525,\n",
       "        817, 1547,   43,  594,  368,  105, 1636, 1124,  131,   29,  409,\n",
       "       1970, 1298,  915, 1087, 1691,  251, 1427,  518,  708,  824,  257,\n",
       "       1048, 1651, 1643,   39,  700, 1722, 1891, 1563, 1626, 1168,  228,\n",
       "        419, 1274, 1979,  884,  455, 1907, 1232,  281,  462, 1059,   27,\n",
       "        522,  559,  219, 1530, 1003,  170,  499,   25,  447,    7, 1062,\n",
       "       1568,  726, 1950,  984, 1830, 1376,  576,  722,  722, 1710,  345,\n",
       "        709, 1424,  453, 1233,  607, 1851,  836, 1022, 1890, 1738,  708,\n",
       "        924, 1209,  397, 1565, 1579,  216, 1903, 1620, 1279,  349, 1424,\n",
       "       1927, 1462,  681,   74, 1290, 1452, 1140, 1072, 1294, 1684, 1420,\n",
       "       1565, 1233, 1717,   22,   39,  485,  150, 1668, 1858,  316, 1691,\n",
       "        683, 1155, 1592, 1607,  244, 1722,  888,  337, 1411,  885,  955,\n",
       "        538,  151,  108,  858, 1608, 1473,  736,  244, 1602, 1927, 1310,\n",
       "        268,  203, 1418,  479,  293,  905,  643, 1096, 1628, 1931, 1174,\n",
       "        934, 1728,  503, 1953,  489,  958,  905, 1565,  809, 1310, 1986,\n",
       "        674,  453, 1209, 1395,  895, 1942,  612, 1815,  901,  382,  611,\n",
       "       1719,  276, 1166, 1294, 1336,   32, 1501,  793,   30, 1964,   54,\n",
       "        830,   31, 1867, 1225,  720, 1286, 1328, 1683,  794, 1576, 1385,\n",
       "        823, 1070,  882,  670, 1618, 1859, 1839,  954,  430,  164, 1246,\n",
       "       1512, 1231, 1047,  666, 1631,  683,  811, 1592, 1919,  476, 1541,\n",
       "       1318,  155, 1557, 1061, 1972, 1984,  282,  421,  343, 1978, 1368,\n",
       "       1399,  177,  890, 1307, 1345, 1914,  950,  120,  489,  531, 1320,\n",
       "        262,  375, 1273,  729, 1164,  151,  388, 1212, 1825, 1879, 1278,\n",
       "        624,  649,   81,  819,  388,  359,  794, 1593,  586, 1285, 1934,\n",
       "         22,  927,  909,  563, 1867, 1447, 1230,  375, 1702, 1853,  268,\n",
       "        800,  827, 1927, 1244,   92, 1953, 1355, 1512,  269, 1531,  685,\n",
       "       1418,  187, 1417, 1841, 1678, 1182,  446,  957,  609, 1605,  554,\n",
       "       1287,  366, 1428, 1250, 1407,  872, 1326,  447, 1799,  571,  968,\n",
       "        638,  432,  881, 1092,  331, 1925, 1707,  664, 1216,  789,  802,\n",
       "        713,  594, 1422,  251, 1514,   40,  145, 1020, 1851,  925,  755,\n",
       "       1061,  725,  604,   62, 1726, 1797, 1873,  498,  299, 1732,   79,\n",
       "        741,  297,  513, 1705,  443,  886,  685,  798,  597, 1291, 1804,\n",
       "        347, 1844, 1310,  748, 1780, 1360,   42, 1774, 1744,  405,  851,\n",
       "       1114,  469, 1646,  964,  860,   43,  471,  850, 1897, 1782,  567,\n",
       "        306, 1507, 1910, 1421, 1974,  823, 1135, 1888,  809, 1903,  924,\n",
       "       1959,  975,  920,  825, 1372, 1062, 1367,    9,  411,  971, 1287,\n",
       "       1209,  311, 1051, 1414, 1621, 1752,  307, 1550,  175,  120,  549,\n",
       "        781,  957, 1768,  758,  383, 1106,  667,  986,   89,  583, 1976,\n",
       "       1800,  110,  180,  400,  961, 1091,  999,  376,  200,  517, 1177,\n",
       "        289, 1734,   27,  434,  162,  806, 1444, 1094, 1169, 1627, 1390,\n",
       "       1670,  416, 1220,  474,  600, 1314, 1240, 1762, 1382, 1468, 1954,\n",
       "       1388,  573, 1568, 1955, 1423, 1747, 1260,  164,  532, 1049,  271,\n",
       "       1641,  259,  678,  692,  584,  496,  278, 1188, 1947,  816])"
      ]
     },
     "execution_count": 2,
     "metadata": {},
     "output_type": "execute_result"
    }
   ],
   "source": [
    "random_integers"
   ]
  },
  {
   "cell_type": "code",
   "execution_count": 3,
   "id": "32db8544",
   "metadata": {},
   "outputs": [],
   "source": [
    "def is_prime(number):\n",
    "    if number==1 or number ==2:\n",
    "        return True\n",
    "    else:\n",
    "        for divisor in range (2,number):\n",
    "            if number % divisor == 0:\n",
    "                return False\n",
    "        if divisor == (number-1):\n",
    "                return True"
   ]
  },
  {
   "cell_type": "code",
   "execution_count": 4,
   "id": "d387fe6e",
   "metadata": {},
   "outputs": [
    {
     "data": {
      "text/plain": [
       "True"
      ]
     },
     "execution_count": 4,
     "metadata": {},
     "output_type": "execute_result"
    }
   ],
   "source": [
    "is_prime(2)"
   ]
  },
  {
   "cell_type": "code",
   "execution_count": 5,
   "id": "aa0b834b",
   "metadata": {},
   "outputs": [],
   "source": [
    "def prime(n,divisor):\n",
    "    if n==1 or n==2:\n",
    "        return \"Prime\"\n",
    "    else:\n",
    "        if n == divisor:\n",
    "            return \"Prime\"\n",
    "        if n % divisor == 0:\n",
    "            return \"Not prime\"\n",
    "        A = prime(n,divisor+1)\n",
    "    return A"
   ]
  },
  {
   "cell_type": "code",
   "execution_count": 6,
   "id": "c95acc5f",
   "metadata": {},
   "outputs": [
    {
     "data": {
      "text/plain": [
       "'Prime'"
      ]
     },
     "execution_count": 6,
     "metadata": {},
     "output_type": "execute_result"
    }
   ],
   "source": [
    "prime(17,2)"
   ]
  },
  {
   "cell_type": "code",
   "execution_count": 7,
   "id": "80f59fe6",
   "metadata": {},
   "outputs": [],
   "source": [
    "def pr(x,divisor):\n",
    "    if x == 1:\n",
    "        return \"Prime\"\n",
    "    if x == divisor:\n",
    "        return \"Prime\"\n",
    "    if x % divisor == 0:\n",
    "        return \"Not Prime\"\n",
    "    divisor = divisor + 1\n",
    "    P = pr(x, divisor)\n",
    "    return P"
   ]
  },
  {
   "cell_type": "code",
   "execution_count": 8,
   "id": "79bd695b",
   "metadata": {},
   "outputs": [
    {
     "data": {
      "text/plain": [
       "'Not Prime'"
      ]
     },
     "execution_count": 8,
     "metadata": {},
     "output_type": "execute_result"
    }
   ],
   "source": [
    "pr(4,2)"
   ]
  },
  {
   "cell_type": "code",
   "execution_count": 9,
   "id": "e50b7de1",
   "metadata": {},
   "outputs": [],
   "source": [
    "def ev(x):\n",
    "    if x % 2 == 0:\n",
    "        return \"Even\"\n",
    "    else:\n",
    "        result = pr(x,2)\n",
    "        return result"
   ]
  },
  {
   "cell_type": "code",
   "execution_count": 10,
   "id": "a3a058bd",
   "metadata": {},
   "outputs": [
    {
     "data": {
      "text/plain": [
       "'Prime'"
      ]
     },
     "execution_count": 10,
     "metadata": {},
     "output_type": "execute_result"
    }
   ],
   "source": [
    "ev(19)"
   ]
  },
  {
   "cell_type": "code",
   "execution_count": null,
   "id": "3e9fdfd8",
   "metadata": {},
   "outputs": [],
   "source": []
  }
 ],
 "metadata": {
  "kernelspec": {
   "display_name": "Python 3 (ipykernel)",
   "language": "python",
   "name": "python3"
  },
  "language_info": {
   "codemirror_mode": {
    "name": "ipython",
    "version": 3
   },
   "file_extension": ".py",
   "mimetype": "text/x-python",
   "name": "python",
   "nbconvert_exporter": "python",
   "pygments_lexer": "ipython3",
   "version": "3.9.13"
  }
 },
 "nbformat": 4,
 "nbformat_minor": 5
}
