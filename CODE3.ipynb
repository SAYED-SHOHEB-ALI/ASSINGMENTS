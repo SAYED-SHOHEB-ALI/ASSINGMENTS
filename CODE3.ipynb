{
 "cells": [
  {
   "cell_type": "markdown",
   "id": "2004fae5",
   "metadata": {},
   "source": [
    "# Write a program to go through 1000 random integers and check whether they are even or prime. In order to create a list of 1000 random integers, you can write the following statement:\n",
    "# import numpy as np\n",
    "# random_integers = np.random.randint(low=0, high=2000, size=(1000,))\n",
    "# Now pass the list of these 1000 random integers to a user defined function called even_prime_list_creation. This function will accept a list of 1000 random integers and return two lists of even as well as prime numbers. Make sure that your function does this in a recursive manner (remember that you can't use loop to go through each number in a list of 1000 random integers, that has to be done in a recursive manner)\n",
    "# Now, in order to create a list of even as well as prime numbers, even_prime_list_creation should know that which number is an even number and which number is a prime number. Well even number is easy to check so your function even_prime_list_creation can itself check whether the number is even or not but in order to check whether the number is prime or not, even_prime_list_creation is going to call another function called is_prime. This, is_prime function will accept a number and check whether it's prime or not in a recursive manner (again you can't use a loop to check whether the number is prime or not, that has to be done in a recursive manner) and is going to return True or False accordingly.\n",
    "# So, both functions should do their job in a recursive manner. And the final outcome should be two lists, one of even number and one of prime numbers."
   ]
  },
  {
   "cell_type": "code",
   "execution_count": 1,
   "id": "0c9d1cd3",
   "metadata": {},
   "outputs": [],
   "source": [
    "import numpy as np\n",
    "random_integers = np.random.randint(low=0, high=2000, size=(1000,))"
   ]
  },
  {
   "cell_type": "code",
   "execution_count": 2,
   "id": "a7554743",
   "metadata": {},
   "outputs": [
    {
     "data": {
      "text/plain": [
       "array([1875, 1740,  600,  912, 1997, 1450, 1083, 1484,  556,  362,  325,\n",
       "        323, 1168, 1604,   55, 1532,  418,   47,  750, 1076, 1947, 1755,\n",
       "        903,   18,  442,   86,  874,  242,  915, 1369,  705, 1656,  475,\n",
       "        666,  156,  641,   67,  786, 1763,  994, 1497,  494,  221, 1135,\n",
       "       1823,  548, 1923, 1571,  192,  819, 1549, 1748, 1818,  150, 1446,\n",
       "       1574,  802, 1595, 1694, 1833,  493,  108, 1644,  500, 1256, 1621,\n",
       "       1541,  478, 1133, 1622, 1850,  239, 1135,   76, 1104,    4,  592,\n",
       "       1170, 1714, 1753, 1511, 1272,  439, 1096,  429,  469,  399, 1444,\n",
       "       1412, 1796,  519,  413, 1512, 1680,  470, 1598, 1291, 1209, 1541,\n",
       "        697,  361, 1125,  804,  571, 1704, 1990,  554, 1837, 1045,  766,\n",
       "       1547, 1215, 1505,  823, 1102,  590, 1362,  683, 1236, 1344,  204,\n",
       "        541, 1117, 1737,  449,  820, 1294, 1274,  321,  529,  962, 1982,\n",
       "       1646,  165, 1217,  940,  969,  228,  385,  170, 1952,  888, 1790,\n",
       "       1639,   20, 1636,  816,  325,  123,  171, 1845,  242, 1960,  424,\n",
       "        306,  371, 1045,  128,  360,  851,  391, 1554,   21,  390, 1166,\n",
       "         41, 1616,  435, 1454, 1726,  617,  673, 1813,  752,  559,  112,\n",
       "        336,  270,  601, 1441,  661,  293,  495, 1895,  192, 1973,  228,\n",
       "       1488, 1733,  248, 1123,  379, 1253, 1265,  856,  384,   53, 1783,\n",
       "        910,  548,  526,  105, 1336,  658,  237,  359,  610, 1582, 1351,\n",
       "        478,  564,  753,  629,  465, 1867, 1963, 1162,  755,  793,  702,\n",
       "        317,  938, 1228, 1581,  471, 1404, 1533, 1222, 1932,  462, 1885,\n",
       "       1686,  823, 1033,  801,   30, 1999, 1010,  804, 1251, 1171,  329,\n",
       "        249, 1131, 1646,  411,  865, 1403, 1371,  100,  928, 1498,  644,\n",
       "        951,   36, 1220,  527,  699, 1742, 1417, 1270, 1111, 1145,  811,\n",
       "       1770,  510, 1402,  921, 1174,  937,   91,  738, 1393, 1299,  713,\n",
       "       1426, 1030,  490, 1537, 1901, 1865, 1218,  448, 1356, 1429,  262,\n",
       "       1245,  132, 1127, 1437,  854, 1468,  326,  359,  731,  639,   19,\n",
       "        279,  115, 1838, 1113, 1446, 1692,  697,  628, 1566, 1952,  351,\n",
       "       1527,  165, 1647,  312, 1074, 1522, 1544,  570,  375, 1819, 1878,\n",
       "        657,   88, 1107,  233,  718, 1296,   80, 1084,  135,  310,  776,\n",
       "       1199,  592,  983,  755, 1523, 1590,  716, 1051, 1839, 1738,  719,\n",
       "       1028,  168,  404,  693, 1280, 1507, 1516, 1986,  842, 1122, 1446,\n",
       "       1770, 1977, 1107,   62, 1474, 1096, 1295, 1835,  174, 1898, 1995,\n",
       "       1424,  948, 1602, 1908,  646,  988,  613, 1351, 1778,  346,  842,\n",
       "       1609,  454,  100,  920, 1834,  122,  682,  249, 1402, 1830, 1765,\n",
       "       1078, 1596,  487, 1935, 1972, 1571, 1576, 1078,  514, 1206,  602,\n",
       "        106,  474,  961, 1024,  206, 1162, 1904,  332,  595, 1944,  899,\n",
       "       1229,  448, 1067, 1373,  682,  980, 1554, 1714, 1294, 1094, 1839,\n",
       "       1799, 1364,  372,  839,  481,  388,  563, 1446, 1770, 1665,  318,\n",
       "       1964,  930, 1041,  477,  480, 1699,  908, 1285,  904, 1225, 1002,\n",
       "         16,  105, 1386, 1803,  828, 1875, 1982, 1155,  455,  694, 1851,\n",
       "       1096, 1217, 1109, 1206, 1694, 1703, 1244, 1264,  973, 1115, 1439,\n",
       "       1481,  422, 1299,  488,  545, 1830, 1132, 1259, 1850, 1332,  512,\n",
       "       1104, 1269, 1008,  750, 1351,  659,  459, 1315, 1572,  445, 1727,\n",
       "       1897,   74,  157,  887,  227,  156, 1288,  915, 1887,  285,  483,\n",
       "        474, 1746,  878,   17, 1677, 1076, 1975,  747,  502,  569, 1325,\n",
       "        379,  210, 1644, 1345, 1089,  381, 1611,  289, 1006, 1710,  541,\n",
       "       1535,  398,  988, 1291,  112,  309,  522, 1520, 1136, 1293, 1444,\n",
       "       1232, 1572,  593, 1920, 1025,  797, 1308, 1759,  924,  728, 1961,\n",
       "       1920, 1287,  882, 1521,  921,  269,  973,  864,  312,  523,    0,\n",
       "       1328,  786,  503,  375, 1920, 1019,  220,   68,  226,  534,  545,\n",
       "       1653, 1522, 1238,  388, 1010,  266, 1432, 1325,  979, 1380,  538,\n",
       "        525, 1936, 1762, 1661,  178,  834,  107, 1957, 1020,  840, 1368,\n",
       "         87, 1379,  595, 1236, 1078,  494, 1719,  325,  654,  144,  514,\n",
       "        189, 1728, 1532,  764,  863, 1876, 1824, 1031, 1789,  232, 1179,\n",
       "       1330,  561,  936,  893,  578,  926, 1003, 1552, 1185, 1265,  633,\n",
       "       1640, 1900, 1880, 1776,  768, 1939,  272,    0,  989, 1263, 1469,\n",
       "        639,  697, 1111,  313, 1142,  539,  681, 1373,  670, 1131,  342,\n",
       "        207,  729,  418,  679, 1020,  230,  157, 1235, 1124,   64, 1792,\n",
       "        981, 1860,  285,  226,  956,  965, 1858, 1644, 1178, 1416,  622,\n",
       "        467,  672, 1522, 1711,   73, 1061,  788, 1195,  359,  627, 1657,\n",
       "        777, 1268,  154, 1864, 1682, 1660, 1829, 1811,  542, 1662, 1500,\n",
       "        888,  170, 1583, 1633,  364,  785, 1054,  681,  676, 1938, 1408,\n",
       "       1874,  646,   11, 1734,  338,  166,  542, 1772,  937, 1365, 1931,\n",
       "        915, 1827, 1266, 1329,  657,  353, 1768,  449, 1344, 1386, 1093,\n",
       "       1407,  601, 1227, 1802,  328, 1175, 1530, 1617,  795,  479, 1992,\n",
       "       1350,   11, 1198, 1090,  599, 1826, 1938, 1381,  836, 1863, 1614,\n",
       "        878, 1081,  430,   37, 1176,  501, 1983, 1121,  107, 1015, 1069,\n",
       "       1131,  623, 1861,  229, 1534,  486, 1685, 1969, 1644, 1484, 1366,\n",
       "       1951,  915, 1217,  910, 1311, 1256, 1747, 1194, 1648, 1739, 1174,\n",
       "       1908, 1228,  531,   55, 1939,  766,  193, 1562,  373,  617,  284,\n",
       "        706,  706,  422, 1088,  302, 1061, 1992,  641,  649, 1661,  599,\n",
       "       1856,  455, 1431, 1004,  509, 1164,  536, 1015,   61,  164, 1577,\n",
       "       1662,  312,  307,  311,  280, 1362, 1837, 1060, 1961,  466, 1055,\n",
       "       1415,  368, 1476, 1078, 1774,  887,   87, 1956,   15,  132,  361,\n",
       "        942, 1126, 1055, 1938, 1390,  141,  545,  110,  792,  342, 1770,\n",
       "        859,  746, 1031, 1151, 1401, 1109, 1464, 1219, 1143,  957,  900,\n",
       "        625, 1415, 1035, 1810, 1801,  816, 1457, 1567, 1772,   21, 1878,\n",
       "        927, 1731, 1330, 1116, 1560,  424, 1354, 1785, 1273, 1137, 1796,\n",
       "        739, 1533, 1018,  940, 1011, 1579,  878, 1778, 1600, 1812, 1024,\n",
       "        195, 1833,  863,  923,  320,  247, 1698,   89,  706, 1022, 1387,\n",
       "       1491, 1711, 1857,   54,  952,  439, 1333, 1737, 1648, 1350,  954,\n",
       "        446, 1940, 1446,  521, 1947, 1199, 1639, 1466, 1685,  891,  879,\n",
       "       1409, 1925,  779, 1752,    3,  885,  426, 1973, 1491, 1735,  323,\n",
       "        248, 1885, 1316,  196,  815, 1100, 1491,  576, 1530, 1709,  721,\n",
       "        300, 1180,  476,  425, 1544,  647,  585, 1765, 1716, 1092, 1968,\n",
       "       1469, 1225, 1688, 1947,  407, 1523,  553, 1152, 1761, 1747,  617,\n",
       "        863,  728,  827, 1975, 1019, 1414, 1925,  233, 1674, 1757, 1056,\n",
       "        285,  642, 1504,  821,  763,  894,    2,   22, 1216, 1947,  229,\n",
       "        902, 1829,  280,  889,  403, 1138,  421,  273, 1036, 1461, 1237,\n",
       "        373,  430,  266, 1847, 1407,  960, 1192,  860,  314,  288])"
      ]
     },
     "execution_count": 2,
     "metadata": {},
     "output_type": "execute_result"
    }
   ],
   "source": [
    "random_integers"
   ]
  },
  {
   "cell_type": "code",
   "execution_count": 3,
   "id": "32db8544",
   "metadata": {},
   "outputs": [],
   "source": [
    "def is_prime(number):\n",
    "    if number==1 or number ==2:\n",
    "        return True\n",
    "    else:\n",
    "        for divisor in range (2,number):\n",
    "            if number % divisor == 0:\n",
    "                return False\n",
    "        if divisor == (number-1):\n",
    "                return True"
   ]
  },
  {
   "cell_type": "code",
   "execution_count": 4,
   "id": "d387fe6e",
   "metadata": {},
   "outputs": [
    {
     "data": {
      "text/plain": [
       "True"
      ]
     },
     "execution_count": 4,
     "metadata": {},
     "output_type": "execute_result"
    }
   ],
   "source": [
    "is_prime(2)"
   ]
  },
  {
   "cell_type": "code",
   "execution_count": 5,
   "id": "aa0b834b",
   "metadata": {},
   "outputs": [],
   "source": [
    "def prime(n,divisor):\n",
    "    if n==1 or n==2:\n",
    "        return \"Prime\"\n",
    "    else:\n",
    "        if n == divisor:\n",
    "            return \"Prime\"\n",
    "        if n % divisor == 0:\n",
    "            return \"Not prime\"\n",
    "        A = prime(n,divisor+1)\n",
    "    return A"
   ]
  },
  {
   "cell_type": "code",
   "execution_count": 6,
   "id": "c95acc5f",
   "metadata": {},
   "outputs": [
    {
     "data": {
      "text/plain": [
       "'Prime'"
      ]
     },
     "execution_count": 6,
     "metadata": {},
     "output_type": "execute_result"
    }
   ],
   "source": [
    "prime(17,2)"
   ]
  },
  {
   "cell_type": "code",
   "execution_count": 7,
   "id": "80f59fe6",
   "metadata": {},
   "outputs": [],
   "source": [
    "def pr(x,divisor):\n",
    "    if x == 1:\n",
    "        return \"Prime\"\n",
    "    if x == divisor:\n",
    "        return \"Prime\"\n",
    "    if x % divisor == 0:\n",
    "        return \"Not Prime\"\n",
    "    divisor = divisor + 1\n",
    "    P = pr(x, divisor)\n",
    "    return P"
   ]
  },
  {
   "cell_type": "code",
   "execution_count": 8,
   "id": "79bd695b",
   "metadata": {},
   "outputs": [
    {
     "data": {
      "text/plain": [
       "'Not Prime'"
      ]
     },
     "execution_count": 8,
     "metadata": {},
     "output_type": "execute_result"
    }
   ],
   "source": [
    "pr(4,2)"
   ]
  },
  {
   "cell_type": "code",
   "execution_count": 9,
   "id": "e50b7de1",
   "metadata": {},
   "outputs": [],
   "source": [
    "def ev(x):\n",
    "    if x % 2 == 0:\n",
    "        return \"Even\"\n",
    "    else:\n",
    "        result = pr(x,2)\n",
    "        return result"
   ]
  },
  {
   "cell_type": "code",
   "execution_count": 10,
   "id": "9683021b",
   "metadata": {},
   "outputs": [],
   "source": [
    "l = [1,2,3,4,5,6,7,8,9,10]"
   ]
  },
  {
   "cell_type": "code",
   "execution_count": 11,
   "id": "3e9fdfd8",
   "metadata": {},
   "outputs": [],
   "source": [
    "EVEN=[]\n",
    "PRIME=[]\n",
    "for x in l:\n",
    "    if ev(x) == \"Even\":\n",
    "        EVEN.append(x)\n",
    "    if ev(x) == \"Prime\":\n",
    "        PRIME.append(x)"
   ]
  },
  {
   "cell_type": "code",
   "execution_count": 17,
   "id": "8b814c9c",
   "metadata": {},
   "outputs": [],
   "source": [
    "def evenprimelist(Z,E,P,index):\n",
    "    if index == 10:\n",
    "        return E,P\n",
    "    else:\n",
    "        if ev(Z[index]) == \"Even\":\n",
    "            E.append(Z[index])\n",
    "        if ev(Z[index]) == \"Prime\":\n",
    "            P.append(Z[index])\n",
    "        index = index + 1\n",
    "        E,P = evenprimelist(Z,E,P,index)\n",
    "        return E,P"
   ]
  },
  {
   "cell_type": "code",
   "execution_count": 18,
   "id": "9897d065",
   "metadata": {},
   "outputs": [],
   "source": [
    "Z = [1,2,3,4,5,6,7,8,9,10]\n",
    "E = []\n",
    "P = []"
   ]
  },
  {
   "cell_type": "code",
   "execution_count": 19,
   "id": "d5e1b0a3",
   "metadata": {},
   "outputs": [],
   "source": [
    "E,P = evenprimelist(Z,E,P,0)"
   ]
  },
  {
   "cell_type": "code",
   "execution_count": 20,
   "id": "f2c45cc8",
   "metadata": {},
   "outputs": [
    {
     "data": {
      "text/plain": [
       "[2, 4, 6, 8, 10]"
      ]
     },
     "execution_count": 20,
     "metadata": {},
     "output_type": "execute_result"
    }
   ],
   "source": [
    "E"
   ]
  },
  {
   "cell_type": "code",
   "execution_count": 21,
   "id": "0211a04f",
   "metadata": {},
   "outputs": [
    {
     "data": {
      "text/plain": [
       "[1, 3, 5, 7]"
      ]
     },
     "execution_count": 21,
     "metadata": {},
     "output_type": "execute_result"
    }
   ],
   "source": [
    "P"
   ]
  }
 ],
 "metadata": {
  "kernelspec": {
   "display_name": "Python 3 (ipykernel)",
   "language": "python",
   "name": "python3"
  },
  "language_info": {
   "codemirror_mode": {
    "name": "ipython",
    "version": 3
   },
   "file_extension": ".py",
   "mimetype": "text/x-python",
   "name": "python",
   "nbconvert_exporter": "python",
   "pygments_lexer": "ipython3",
   "version": "3.9.13"
  }
 },
 "nbformat": 4,
 "nbformat_minor": 5
}
